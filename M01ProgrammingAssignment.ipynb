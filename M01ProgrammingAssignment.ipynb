{
 "cells": [
  {
   "cell_type": "code",
   "execution_count": 1,
   "id": "ca1fd64b-4f81-4564-aafd-e32eacc253f8",
   "metadata": {},
   "outputs": [
    {
     "name": "stdout",
     "output_type": "stream",
     "text": [
      "The number of seconds in an hour is  3600\n"
     ]
    }
   ],
   "source": [
    "print(\"The number of seconds in an hour is \",60*60)"
   ]
  },
  {
   "cell_type": "markdown",
   "id": "2a30e653-68d5-416c-996a-96496d9fc684",
   "metadata": {},
   "source": [
    "The line of code above shows both how to print a statement and how to include a string and integers/math"
   ]
  },
  {
   "cell_type": "code",
   "execution_count": 5,
   "id": "a1cebdad-6aaf-440a-ad9b-3f039633a6af",
   "metadata": {},
   "outputs": [],
   "source": [
    "seconds_per_hour=(60*60)"
   ]
  },
  {
   "cell_type": "markdown",
   "id": "e1ffaf7a-aff9-4f77-989b-81fa9bc7804c",
   "metadata": {},
   "source": [
    "the above line of code assigns the value 60 times 60 to the variable seconds_per_hour to be used as needed"
   ]
  },
  {
   "cell_type": "code",
   "execution_count": 6,
   "id": "ee565022-5598-4042-8f02-49a9c99566f1",
   "metadata": {},
   "outputs": [],
   "source": [
    "seconds_per_day=(seconds_per_hour*24)"
   ]
  },
  {
   "cell_type": "code",
   "execution_count": 7,
   "id": "eb3ca4c4-2f92-4d4c-8a33-113efb04b6ab",
   "metadata": {},
   "outputs": [
    {
     "name": "stdout",
     "output_type": "stream",
     "text": [
      "There are  3600  seconds in every hour and  86400  seconds in every day\n"
     ]
    }
   ],
   "source": [
    "print(\"There are \",seconds_per_hour,\" seconds in every hour and \",seconds_per_day,\" seconds in every day\")"
   ]
  },
  {
   "cell_type": "markdown",
   "id": "f1a0b4bd-fff5-4ffe-84c1-d6f9474eae21",
   "metadata": {},
   "source": [
    "The two lines of code above show how to use variables in a variable assignment and how to print using multiple variables and multiple strings"
   ]
  },
  {
   "cell_type": "code",
   "execution_count": 8,
   "id": "96724f55-2957-4f51-af42-3447527b6566",
   "metadata": {},
   "outputs": [
    {
     "data": {
      "text/plain": [
       "24.0"
      ]
     },
     "execution_count": 8,
     "metadata": {},
     "output_type": "execute_result"
    }
   ],
   "source": [
    "seconds_per_day/seconds_per_hour"
   ]
  },
  {
   "cell_type": "code",
   "execution_count": 9,
   "id": "3871a0ae-78aa-4d48-b939-7e41df0ed85e",
   "metadata": {},
   "outputs": [
    {
     "data": {
      "text/plain": [
       "24"
      ]
     },
     "execution_count": 9,
     "metadata": {},
     "output_type": "execute_result"
    }
   ],
   "source": [
    "seconds_per_day//seconds_per_hour"
   ]
  },
  {
   "cell_type": "raw",
   "id": "77d860b7-6c52-4cc2-9ce6-419215f21db1",
   "metadata": {},
   "source": [
    "The above both agree with each other with the exception of the .0 because the top is float division, meaning with decimals, and the bottom is integer division meaning without d"
   ]
  }
 ],
 "metadata": {
  "kernelspec": {
   "display_name": "Python 3 (ipykernel)",
   "language": "python",
   "name": "python3"
  },
  "language_info": {
   "codemirror_mode": {
    "name": "ipython",
    "version": 3
   },
   "file_extension": ".py",
   "mimetype": "text/x-python",
   "name": "python",
   "nbconvert_exporter": "python",
   "pygments_lexer": "ipython3",
   "version": "3.11.7"
  }
 },
 "nbformat": 4,
 "nbformat_minor": 5
}
